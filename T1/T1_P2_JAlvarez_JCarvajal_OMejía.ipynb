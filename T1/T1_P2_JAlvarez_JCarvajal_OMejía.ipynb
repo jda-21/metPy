{
  "nbformat": 4,
  "nbformat_minor": 0,
  "metadata": {
    "colab": {
      "name": "T1_P2_JÁlvarez-JCarvajal-OMejía.ipynb",
      "provenance": [],
      "collapsed_sections": []
    },
    "kernelspec": {
      "display_name": "Python 3",
      "language": "python",
      "name": "python3"
    },
    "language_info": {
      "codemirror_mode": {
        "name": "ipython",
        "version": 3
      },
      "file_extension": ".py",
      "mimetype": "text/x-python",
      "name": "python",
      "nbconvert_exporter": "python",
      "pygments_lexer": "ipython3",
      "version": "3.7.6"
    }
  },
  "cells": [
    {
      "cell_type": "markdown",
      "metadata": {
        "id": "mpnjhhYXDmrM"
      },
      "source": [
        "# <center> Trabajo 1 \n",
        "## <center> **$Punto \\ 2. \\ Solución \\ de \\ ecuaciones \\ de \\ una \\ variable$**\n",
        "<br>  \n",
        "<center> Juan Diego Alvarez Perdomo <br /> Juliana Carvajal Guerra <br /> Oriana Mejía Cardona\n",
        "<br>  \n",
        "\n",
        "<center><img src=\"https://raw.githubusercontent.com/jda-21/metPy/master/IMG/Escudo%20UDEA.png\" width = \"200px\">\n",
        "<br>\n",
        "\n",
        "<center> Programación y métodos numéricos <br /> Facultad de Ingeniería <br /> Departamento de Ingeniería Mecánica <br /> Universidad de Antioquia <br /> Medellín\n",
        " <center> Enero de 2021\n",
        "\n",
        "   \n",
        "--------------------------------------------------------------\n",
        "    "
      ]
    },
    {
      "cell_type": "markdown",
      "metadata": {
        "id": "s06f8p5ziXDU"
      },
      "source": [
        "# *$ Enunciado $*\r\n",
        "Un contenedor semi-cilíndrico de longitud *L* tiene sección de semi-círculo con radio *r*. Cuando se llena de agua hasta una distancia *h* del borde superior, el volumen de agua, *V*, es: \r\n",
        "<center>  $V = L[ 0.5 \\pi r^2 - r^2 sin^{-1}(\\frac {h} {r}) - h \\sqrt [2]{r^2 - h^2} ] $\r\n",
        "<center><img src=\"https://raw.githubusercontent.com/jda-21/metPy/master/IMG/Tanque.png\" width = \"400px\">\r\n",
        "\r\n",
        "<center>Para resolver la ecuación utilizamos: \r\n",
        "\r\n",
        "<center>$L = 0.60m$ , $r = 0.80m$ , $V = 0.241 m^3$.\r\n",
        "\r\n",
        "<center>Y una tolerancia de $1 x 10^-8$"
      ]
    },
    {
      "cell_type": "markdown",
      "metadata": {
        "id": "V8UcxowLB9NS"
      },
      "source": [
        "# $Contenido$\r\n",
        "En este cuardeno se soluciona la ecuación mediante diferentes métodos buscando hallar el más eficiente. Primero se útiliza el método gráfico para para hallar la raíz, esta se utilizará para fijar el intervalo en los métodos cerrados ( Método de bisección y Método de la posición falsa) y el valor semilla en los métodos abiertos (Método de iteración simple de punto fijo y Método de Newton - Rhapson). \r\n",
        "\r\n",
        "Finalmente, se hace un gráfico comparativo de los errores relativos de los diferentes métodos y se realiza un análisis. "
      ]
    },
    {
      "cell_type": "code",
      "metadata": {
        "id": "sMK8K3cgDmrT"
      },
      "source": [
        "# Importación de librerías\n",
        "%matplotlib notebook\n",
        "import numpy as np\n",
        "import pandas as pd\n",
        "import matplotlib.pyplot as plt\n",
        "from bokeh.plotting import figure, show\n",
        "from bokeh.io import output_notebook, export_png"
      ],
      "execution_count": null,
      "outputs": []
    },
    {
      "cell_type": "code",
      "metadata": {
        "id": "aATWpeCCMzKM"
      },
      "source": [
        "# Se asignan valores a los parámetros\r\n",
        "L = 0.6     # [m]\r\n",
        "r = 0.8     # [m]\r\n",
        "V = 0.241     # [m3]"
      ],
      "execution_count": null,
      "outputs": []
    },
    {
      "cell_type": "markdown",
      "metadata": {
        "id": "4WEqDTG_Kcnu"
      },
      "source": [
        "# Método gráfico"
      ]
    },
    {
      "cell_type": "code",
      "metadata": {
        "id": "63zAonQ1MPma"
      },
      "source": [
        "Incr = 0.01\r\n",
        "h = np.arange(0, 0.8 + Incr, Incr)\r\n",
        "V_h = L * ((0.5 * np.pi * (r**2)) - (r**2 * np.arcsin(h/r)) - (h * np.sqrt((r**2) - (h**2)))) - V     # Función para el volumen que depende de h.\r\n",
        "eje_x = np.zeros(len(h))"
      ],
      "execution_count": null,
      "outputs": []
    },
    {
      "cell_type": "code",
      "metadata": {
        "id": "FkprUUkoQ29Z"
      },
      "source": [
        "alto = 400     # Dimensiones para la gráfica.\r\n",
        "ancho = int(alto*1.618)     # Dimensiones para la gráfica.\r\n",
        "p = figure(plot_width=ancho, plot_height=alto, x_axis_label='h [m]',y_axis_label='V_h [m^3]', title='Volumen en función de h', x_range=[0,0.8])     # Se asignan nombres a la gráfica y a los ejes.\r\n",
        "p.line(h, V_h, line_width=2, legend_label='V_h')     # Se grafica la función y se nombra su leyenda.\r\n",
        "p.line(h, eje_x, line_width=2, line_color='black', legend_label='y = 0')     # Se grafica la línea equivalente al eje x y se nombra su leyenda.\r\n",
        "\r\n",
        "show(p)     # Se muestra la gráfica\r\n",
        "\r\n"
      ],
      "execution_count": null,
      "outputs": []
    },
    {
      "cell_type": "code",
      "metadata": {
        "colab": {
          "base_uri": "https://localhost:8080/",
          "height": 295
        },
        "id": "ZOFjdhqKy1Jn",
        "outputId": "ae2eccbb-e0e3-44ac-ae85-8f81afbe01ef"
      },
      "source": [
        "fig, ax = plt.subplots()\r\n",
        "ax.plot(h, V_h)\r\n",
        "\r\n",
        "ax.set(xlabel='h [m]', ylabel='V_h [m³]',\r\n",
        "       title='Volumen en función de h')\r\n",
        "ax.grid()\r\n",
        "\r\n",
        "#fig.savefig(\"posicion.png\")\r\n",
        "plt.show()\r\n"
      ],
      "execution_count": null,
      "outputs": [
        {
          "output_type": "display_data",
          "data": {
            "image/png": "[encoded data removed]",
            "text/plain": [
              "<Figure size 432x288 with 1 Axes>"
            ]
          },
          "metadata": {
            "tags": [],
            "needs_background": "light"
          }
        }
      ]
    },
    {
      "cell_type": "markdown",
      "metadata": {
        "id": "vNeg0yHQighA"
      },
      "source": [
        "De la gráfica se observa que cuando el volumen del agua $V$ es $241$ $L$, la distancia $h$ es $0.393827318$ $m$.\r\n",
        "\r\n",
        "<center><img src=\"https://raw.githubusercontent.com/jda-21/metPy/master/IMG/Raíz.png\" align = \"left\" width = \"500px\" >\r\n",
        "\r\n"
      ]
    },
    {
      "cell_type": "markdown",
      "metadata": {
        "id": "bhQJxVYCfRfo"
      },
      "source": [
        "#  *$ Métodos \\ cerrados $*"
      ]
    },
    {
      "cell_type": "markdown",
      "metadata": {
        "id": "Pt4MfcOnKhcL"
      },
      "source": [
        "## $Método \\ de \\ bisección$"
      ]
    },
    {
      "cell_type": "code",
      "metadata": {
        "id": "4d9R-Q2bf3yY"
      },
      "source": [
        "h_ = 0.393827318     # Raíz hallada por el método gráfico.\r\n",
        "a = h_ - 0.02     # Límite inferior.\r\n",
        "b = h_ + 0.02     # Límite superior.\r\n",
        "N_it_max = 50     # Número máximo de iteraciones.\r\n",
        "tol = 1e-08     # Tolerancia."
      ],
      "execution_count": null,
      "outputs": []
    },
    {
      "cell_type": "code",
      "metadata": {
        "colab": {
          "base_uri": "https://localhost:8080/"
        },
        "id": "GAITEhBZtyfW",
        "outputId": "ea0c9d60-0710-43d1-f857-c1ffe6efa85f"
      },
      "source": [
        "N_it = 0     # Se inicia la variable que almacenará el número de iteraciones.\r\n",
        "p = 0     # Se inicia la variable que corresponderá a las aproximaciones de la raíz.\r\n",
        "error = 1\r\n",
        "V_h = 'L * ((0.5 * np.pi * (r**2)) - (r**2 * np.arcsin(h/r)) - (h * np.sqrt((r**2) - (h**2)))) - V'     # Función.\r\n",
        "h = a; V_a = eval(V_h)     # Se evalúa la función en el límite inferior.\r\n",
        "h = b; V_b = eval(V_h)     # Se evalúa la función en el límite superior.\r\n",
        "list_error_bis = []     # Se crea una lista para almacenar el error relativo de cada iteración.\r\n",
        "\r\n",
        "if (V_a * V_b < 0):     # Se verifica que la función cambia de signo en el intervalo.\r\n",
        "  while (error > tol and N_it <= N_it_max):     # Se establece que el bucle se repita mientras el número de iteraciones no supere el máximo y el error sea mayor que la tolerancia.\r\n",
        "    p_0 = p\r\n",
        "    p = (a + b) / 2     # Se divide el intervalo en dos subintervalos iguales para obtener la aproximación de la raíz.\r\n",
        "    h = p; V_p = eval(V_h)     # Se evalúa la función en la aproximación.\r\n",
        "    if (V_a * V_p < 0):     # Se verifica si la raíz está en el subintervalo izquierdo.\r\n",
        "      b = p     # Se establece el nuevo límite superior.\r\n",
        "    elif (V_a * V_p > 0):     # Se verifica si la raíz está en el subintervalo derecho.\r\n",
        "      a = p     # Se establece el nuevo límite inferior.\r\n",
        "    else:\r\n",
        "      N_it = N_it + 1     # Se agrega una unidad al número de iteraciones.\r\n",
        "      error = 0\r\n",
        "      break     # Se rompe el bucle cuando se llega a la raíz.\r\n",
        "    h = a; V_a = eval(V_h)     # Se evalúa la función en el límite inferior.\r\n",
        "    h = b; V_b = eval(V_h)     # Se evalúa la función en el límite superior.\r\n",
        "    error = np.abs((p - p_0) / p)     # Se calcula el error relativo aproximado.\r\n",
        "    list_error_bis.append(error)     # Se almacena el error relativo aproximado.\r\n",
        "    N_it = N_it + 1     # Se agrega una unidad al número de iteraciones.\r\n",
        "  if (N_it >= N_it_max):     # Se verifica si se superó el número máximo de iteraciones.\r\n",
        "    print('Se alcanzó el máximo número de iteraciones sin hallar solución')\r\n",
        "  else:\r\n",
        "    raiz = p     # Se asigna el valor de la mejor aproximación a la variable raíz.\r\n",
        "    print('El valor de la raíz es: ', raiz , '[m]')\r\n",
        "    print('Se realizaron', N_it, 'iteraciones')\r\n",
        "    print('El error relativo aproximado es: {:.2e}'.format(error))\r\n",
        "else:\r\n",
        "  print('Debe redefinir el intervalo de cálculo')"
      ],
      "execution_count": null,
      "outputs": [
        {
          "output_type": "stream",
          "text": [
            "El valor de la raíz es:  0.3938176978103332 [m]\n",
            "Se realizaron 24 iteraciones\n",
            "El error relativo aproximado es: 6.05e-09\n"
          ],
          "name": "stdout"
        }
      ]
    },
    {
      "cell_type": "markdown",
      "metadata": {
        "id": "jxsGGEOGKlro"
      },
      "source": [
        "## $Método \\ de \\ la \\ posición \\ falsa$"
      ]
    },
    {
      "cell_type": "code",
      "metadata": {
        "id": "QtXbr1qs0x56"
      },
      "source": [
        "h_ = 0.393827318     # Raíz hallada por el método gráfico\r\n",
        "a = h_ - 0.02     # Límite inferior\r\n",
        "b = h_ + 0.02     # Límite superior\r\n",
        "N_it_max = 20     # Número máximo de iteraciones\r\n",
        "tol = 1e-08     # Tolerancia."
      ],
      "execution_count": null,
      "outputs": []
    },
    {
      "cell_type": "code",
      "metadata": {
        "colab": {
          "base_uri": "https://localhost:8080/"
        },
        "id": "lEszsJW51TfO",
        "outputId": "0f55e7f0-24b1-44f2-a81d-18c989c85a83"
      },
      "source": [
        "N_it = 0    # Se inicia la variable que almacenará el número de iteraciones.\r\n",
        "p = 0     # Se inicia la variable que corresponderá a las aproximaciones de la raíz.\r\n",
        "error = 1\r\n",
        "V_h = 'L * ((0.5 * np.pi * (r**2)) - (r**2 * np.arcsin(h/r)) - (h * np.sqrt((r**2) - (h**2)))) - V'     # Función.\r\n",
        "h = a; V_a = eval(V_h)     # Se evalúa la función en el límite inferior.\r\n",
        "h = b; V_b = eval(V_h)     # Se evalúa la función en el límite superior.\r\n",
        "list_error_pos = []     # Se crea una lista para almacenar el error relativo de cada iteración.\r\n",
        "\r\n",
        "if (V_a * V_b < 0):     # Se verifica que la función cambia de signo en el intervalo.\r\n",
        "  while (error > tol and N_it <= N_it_max):     # Se establece que el bucle se repita mientras el número de iteraciones no supere el máximo y el error sea mayor que la tolerancia.\r\n",
        "    p_0 = p\r\n",
        "    p = b - (V_b * (a - b)) / (V_a - V_b)    # Se divide el intervalo en dos subintervalos para obtener la aproximación de la raíz.\r\n",
        "    h = p; V_p = eval(V_h)     # Se evalúa la función en la aproximación.\r\n",
        "    if (V_a * V_p < 0):     # Se verifica si la raíz está en el subintervalo izquierdo.\r\n",
        "      b = p     # Se establece el nuevo límite superior.\r\n",
        "    elif (V_a * V_p > 0):     # Se verifica si la raíz está en el subintervalo derecho.\r\n",
        "      a = p     # Se establece el nuevo límite inferior.\r\n",
        "    else:\r\n",
        "      N_it = N_it + 1     # Se agrega una unidad al número de iteraciones.\r\n",
        "      error = 0\r\n",
        "      break     # Se rompe el bucle cuando se llega a la raíz.\r\n",
        "    h = a; V_a = eval(V_h)     # Se evalúa la función en el límite inferior.\r\n",
        "    h = b; V_b = eval(V_h)     # Se evalúa la función en el límite superior.\r\n",
        "    error = np.abs((p - p_0) / p)     # Se calcula el error relativo aproximado.\r\n",
        "    list_error_pos.append(error)     # Se almacena el error relativo aproximado.\r\n",
        "    N_it = N_it + 1     # Se agrega una unidad al número de iteraciones.\r\n",
        "  if (N_it >= N_it_max):     # Se verifica si se superó el número máximo de iteraciones.\r\n",
        "    print('Se alcanzó el máximo número de iteraciones sin hallar solución')\r\n",
        "  else:\r\n",
        "    raiz = p     # Se asigna el valor de la mejor aproximación a la variable raíz.\r\n",
        "    print('El valor de la raíz es: ', raiz, '[m]')\r\n",
        "    print('Se realizaron', N_it, 'iteraciones')\r\n",
        "    print('El error relativo aproximado es: {:.2e}'.format(error))\r\n",
        "else:\r\n",
        "  print('Debe redefinir el intervalo de cálculo')"
      ],
      "execution_count": null,
      "outputs": [
        {
          "output_type": "stream",
          "text": [
            "El valor de la raíz es:  0.39381769918332143 [m]\n",
            "Se realizaron 5 iteraciones\n",
            "El error relativo aproximado es: 2.00e-10\n"
          ],
          "name": "stdout"
        }
      ]
    },
    {
      "cell_type": "markdown",
      "metadata": {
        "id": "EDF0iPi7fpXQ"
      },
      "source": [
        "# **$Métodos \\ abiertos$**"
      ]
    },
    {
      "cell_type": "markdown",
      "metadata": {
        "id": "rsW5ZHecKpwV"
      },
      "source": [
        "## $Método \\ de \\ iteración \\ simple \\ de \\ punto \\ fijo$"
      ]
    },
    {
      "cell_type": "code",
      "metadata": {
        "id": "ywjvVcCZ2i0K"
      },
      "source": [
        "h_ = 0.393827318     # Raíz hallada por el método gráfico\r\n",
        "h0 = h_ - 0.02     # Valor semilla\r\n",
        "N_it_max = 50     # Número máximo de iteraciones\r\n",
        "tol = 1e-08     # Tolerancia."
      ],
      "execution_count": null,
      "outputs": []
    },
    {
      "cell_type": "code",
      "metadata": {
        "colab": {
          "base_uri": "https://localhost:8080/"
        },
        "id": "y5xAuedh2-gW",
        "outputId": "a0dece1c-bebd-4649-f523-f4d832f5a5c2"
      },
      "source": [
        "N_it = 0    # Se inicia la variable que almacenará el número de iteraciones.\r\n",
        "error = 1\r\n",
        "list_error_punt = []     # Se crea una lista para almacenar el error relativo de cada iteración.\r\n",
        "V_h = 'L * ((0.5 * np.pi * (r**2)) - (r**2 * np.arcsin(h/r)) - (h * np.sqrt((r**2) - (h**2)))) - V + h'     # Función.\r\n",
        "while (error > tol and N_it <= N_it_max):     # Se establece que el bucle se repita mientras el número de iteraciones no supere el máximo y el error sea mayor que la tolerancia.\r\n",
        "  h = h0; p = eval(V_h)     # Se calcula la aproximación de la raíz.\r\n",
        "  error = np.abs((p - h) / p)     # Se calcula el error relativo aproximado.\r\n",
        "  list_error_punt.append(error)     # Se almacena el error relativo aproximado.\r\n",
        "  N_it = N_it + 1     # Se agrega una unidad al número de iteraciones.\r\n",
        "  h0 = p\r\n",
        "if (N_it >= N_it_max):     # Se verifica si se superó el número máximo de iteraciones.\r\n",
        "  print('Se alcanzó el máximo número de iteraciones sin hallar solución')\r\n",
        "else:\r\n",
        "  raiz = p     # Se asigna el valor de la mejor aproximación a la variable raíz.\r\n",
        "  print('El valor de la raíz es: ', raiz, '[m]')\r\n",
        "  print('Se realizaron', N_it, 'iteraciones')\r\n",
        "  print('El error relativo aproximado es: {:.2e}'.format(error))"
      ],
      "execution_count": null,
      "outputs": [
        {
          "output_type": "stream",
          "text": [
            "El valor de la raíz es:  0.39381769890857365 [m]\n",
            "Se realizaron 10 iteraciones\n",
            "El error relativo aproximado es: 3.54e-09\n"
          ],
          "name": "stdout"
        }
      ]
    },
    {
      "cell_type": "markdown",
      "metadata": {
        "id": "2CCOmGnVK4R0"
      },
      "source": [
        "## $Método \\ de \\ Newton-Raphson $"
      ]
    },
    {
      "cell_type": "code",
      "metadata": {
        "id": "fNuzYS472X_8"
      },
      "source": [
        "h_ = 0.393827318 # Raíz hallada por el método gráfico\r\n",
        "h0 = h_ - 0.02 # Valor semilla\r\n",
        "N_it_max = 20     # Número máximo de iteraciones\r\n",
        "tol = 1e-08     # Tolerancia."
      ],
      "execution_count": null,
      "outputs": []
    },
    {
      "cell_type": "code",
      "metadata": {
        "colab": {
          "base_uri": "https://localhost:8080/"
        },
        "id": "9LPGgalcCLdp",
        "outputId": "94b0641b-a4dc-49c7-d98d-d94aa88ba106"
      },
      "source": [
        "N_it = 0    # Se inicia la variable que almacenará el número de iteraciones.\r\n",
        "error = 1\r\n",
        "list_error_New = []     # Se crea una lista para almacenar el error relativo de cada iteración.\r\n",
        "V_h = 'L * ((0.5 * np.pi * (r**2)) - (r**2 * np.arcsin(h/r)) - (h * np.sqrt((r**2) - (h**2)))) - V'     # Función.\r\n",
        "\r\n",
        "while (error > tol and N_it <= N_it_max):     # Se establece que el bucle se repita mientras el número de iteraciones no supere el máximo y el error sea mayor que la tolerancia.\r\n",
        "  h = h0\r\n",
        "  D_h = 0.001 * h\r\n",
        "  h = h0 + D_h; V_h0_Dh = eval(V_h)\r\n",
        "  h = h0 - D_h; V_h0_Dh_ = eval(V_h)\r\n",
        "  der_h0 = (V_h0_Dh - V_h0_Dh_) / (2 * D_h)     # Se calcula la derivada en el punto.\r\n",
        "  h = h0; V_h0 = eval(V_h)\r\n",
        "  p = h - (V_h0 / der_h0)    # Se calcula la aproximación mejorada de la raíz.\r\n",
        "  error = np.abs((p - h) / p)     # Se calcula el error relativo aproximado.\r\n",
        "  list_error_New.append(error)     # Se almacena el error relativo aproximado.\r\n",
        "  N_it = N_it + 1     # Se agrega una unidad al número de iteraciones.\r\n",
        "  h0 = p\r\n",
        "if (N_it >= N_it_max):     # Se verifica si se superó el número máximo de iteraciones.\r\n",
        "  print('Se alcanzó el máximo número de iteraciones sin hallar solución')\r\n",
        "else:\r\n",
        "  raiz = p     # Se asigna el valor de la mejor aproximación a la variable raíz.\r\n",
        "  print('El valor de la raíz es: ', raiz, '[m]')\r\n",
        "  print('Se realizaron', N_it, 'iteraciones')\r\n",
        "  print('El error relativo aproximado es: {:.2e}'.format(error))"
      ],
      "execution_count": null,
      "outputs": [
        {
          "output_type": "stream",
          "text": [
            "El valor de la raíz es:  0.3938176991826961 [m]\n",
            "Se realizaron 4 iteraciones\n",
            "El error relativo aproximado es: 1.41e-15\n"
          ],
          "name": "stdout"
        }
      ]
    },
    {
      "cell_type": "markdown",
      "metadata": {
        "id": "bKNqMYgchhsn"
      },
      "source": [
        "# *$Gráfico \\ comparativo$*"
      ]
    },
    {
      "cell_type": "code",
      "metadata": {
        "id": "cIaUiF-9P_Np",
        "colab": {
          "base_uri": "https://localhost:8080/",
          "height": 331
        },
        "outputId": "83c513f2-c6bd-4aac-b6b8-584498408430"
      },
      "source": [
        "x_1 = np.arange(1,len(list_error_bis)+1,1)\r\n",
        "x_2 = np.arange(1,len(list_error_pos)+1,1)\r\n",
        "x_3 = np.arange(1,len(list_error_punt)+1,1)\r\n",
        "x_4 = np.arange(1,len(list_error_New)+1,1)\r\n",
        "tol = np.full(24,tol)\r\n",
        "\r\n",
        "fig, ax = plt.subplots()\r\n",
        "ax.plot(x_1,list_error_bis,label='Método de bisección')    # Se traza una línea que representa el error relativo aproximado del Método de bisección.\r\n",
        "ax.plot(x_2,list_error_pos, label = 'Método de la posición falsa')    # Se traza una línea que representa el error relativo aproximado del Método de la posición falsa.\r\n",
        "ax.plot(x_3, list_error_punt, label = 'Método de iteración simple de punto fijo')    # Se traza una línea que representa el error relativo aproximado del Método de iteración simple de punto fijo.\r\n",
        "ax.plot(x_4, list_error_New, label = 'Método de Newton-Raphson')    # Se traza una línea que representa el error relativo aproximado del Método de Newton-Raphson.\r\n",
        "ax.plot(x_1, tol,'--', label = 'Tolerancia')    # Se traza una línea que representa el error máximo permitido.\r\n",
        "ax.set_yscale('log')    # Se establece el eje y en escala logarítmica.\r\n",
        "ax.set_xlabel('Número de iteraciones', fontname='Times New Roman')     # Se nombra el eje x.\r\n",
        "ax.set_ylabel('Error relativo aproximado', fontname='Times New Roman')     # Se nombra el eje y.\r\n",
        "ax.xaxis.set_ticks(np.arange(0, 26, 2))\r\n",
        "ax.set_title('Comparación de los métodos', fontname='Times New Roman')     # Se nombra la gráfica.\r\n",
        "ax.legend()     # Se establece que se muestren las leyendas."
      ],
      "execution_count": null,
      "outputs": [
        {
          "output_type": "execute_result",
          "data": {
            "text/plain": [
              "<matplotlib.legend.Legend at 0x7fea31caa9b0>"
            ]
          },
          "metadata": {
            "tags": []
          },
          "execution_count": 14
        },
        {
          "output_type": "stream",
          "text": [
            "findfont: Font family ['Times New Roman'] not found. Falling back to DejaVu Sans.\n",
            "findfont: Font family ['Times New Roman'] not found. Falling back to DejaVu Sans.\n"
          ],
          "name": "stderr"
        },
        {
          "output_type": "display_data",
          "data": {
            "image/png": "[encoded data removed]",
            "text/plain": [
              "<Figure size 432x288 with 1 Axes>"
            ]
          },
          "metadata": {
            "tags": [],
            "needs_background": "light"
          }
        }
      ]
    },
    {
      "cell_type": "markdown",
      "metadata": {
        "id": "PzQC28U_aH32"
      },
      "source": [
        "### $Conclusiones.$\r\n",
        "\r\n",
        "* Podemos observar que la raíz obtenida con cada método no varia mucho, tanto en los métodos cerrados como en los abiertos. Además podemos apreciar que los métodos con más iteraciones tienen un error relativo mayor. \r\n",
        "\r\n",
        "  Haciendo un análisis en general de los métodos, notamos que en los métodos cerrados se encuentra el método menos eficiente, con el  mayor error relativo y cantidad de iteraciones, este es el método de bisección, con un error de $6.05x10^{-09}$ y 24 iteraciones, estando éste por encima del menos eficiente de los métodos abiertos, siendo este el método de iteración simple de punto fijo con un error relativo de $3.54x10^{-09}$ y 10 iteraciones. En los métodos abiertos también encontramos el método más eficiente, no sólo por presentar el error relativo más pequeño, de $1.41x10^{-15}$, sino también porque tan solo realizó 4 iteraciones, este fue el método de Newton Rhapson, pero en los métodos cerrados también tenemos el método de posición falsa que realizando tan solo 5 iteraciones tuvo un error relaivo de $2.00x10^{-10}$ el cual muestra ser bastante eficiente.\r\n",
        "\r\n",
        "* Además, con los demás métodos se comprobó que la aproximación obtenida mediante el método gráfico es de buena exactitud, a pesar de lo \"sencillo\" del método, por lo cual es bastante útil como valor semilla o para considerar intervalos.\r\n",
        "\r\n",
        "\r\n",
        "\r\n",
        "\r\n",
        "\r\n"
      ]
    },
    {
      "cell_type": "code",
      "metadata": {
        "id": "yn64WC8jaGLb"
      },
      "source": [
        ""
      ],
      "execution_count": null,
      "outputs": []
    }
  ]
}