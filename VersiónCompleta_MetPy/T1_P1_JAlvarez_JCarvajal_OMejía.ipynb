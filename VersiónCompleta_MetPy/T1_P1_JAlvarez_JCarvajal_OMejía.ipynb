{
  "nbformat": 4,
  "nbformat_minor": 0,
  "metadata": {
    "kernelspec": {
      "display_name": "Python 3",
      "language": "python",
      "name": "python3"
    },
    "language_info": {
      "codemirror_mode": {
        "name": "ipython",
        "version": 3
      },
      "file_extension": ".py",
      "mimetype": "text/x-python",
      "name": "python",
      "nbconvert_exporter": "python",
      "pygments_lexer": "ipython3",
      "version": "3.7.6"
    },
    "colab": {
      "name": "T1_P1_JÁlvarez-JCarvajal-OMejía.ipynb",
      "provenance": [],
      "collapsed_sections": []
    }
  },
  "cells": [
    {
      "cell_type": "markdown",
      "metadata": {
        "id": "A7P7_PdX1leW"
      },
      "source": [
        "# <center> Trabajo 1 \n",
        "## <center> **$Punto \\ 1. \\ Diferenciación \\ e \\ integración \\ numéricas$**\n",
        "<br>  \n",
        "<center> Juan Diego Alvarez Perdomo <br /> Juliana Carvajal Guerra <br /> Oriana Mejía Cardona\n",
        "<br>  \n",
        "<center><img src=\"https://raw.githubusercontent.com/jda-21/metPy/master/IMG/Escudo%20UDEA.png\" width=\"200\"\">\n",
        "<br>\n",
        "<center> Programación y métodos numéricos <br /> Facultad de Ingeniería <br /> Departamento de Ingeniería Mecánica <br /> Universidad de Antioquia <br /> Medellín\n",
        " <center> Enero de 2021\n",
        "\n",
        "\n",
        "---\n",
        "\n",
        "    "
      ]
    },
    {
      "cell_type": "markdown",
      "metadata": {
        "id": "UH73xkxkkdMA"
      },
      "source": [
        "# *$Enunciado$*\r\n",
        "Durante un proyecto de análisis de emisiones, se midió el ciclo de conducción típico de vehículos ligeros en una ciudad, el cual se expresa como una curva de velocidad en función del tiempo (ver figura 1).\r\n",
        "<br> \r\n",
        "<img src=\"https://raw.githubusercontent.com/jda-21/metPy/master/IMG/Figura%201.png\" width = \"500px\">\r\n",
        "<br>\r\n",
        "Durante este ciclo se midieron también las emisiones de bióxido de carbon (flujo másico instantáneo), tal como se puede ver en la figura 2.\r\n",
        "<br>\r\n",
        "<img src=\"https://raw.githubusercontent.com/jda-21/metPy/master/IMG/Figura%202.png\" width = \"500px\">\r\n",
        "<br>\r\n",
        "Esta información se midió con un sistema de adquisición de datos que recoge 10 datos por segundo. El archivo de datos correspondiente se denomina “Datos_ciclo.xlsx”.\r\n",
        "\r\n"
      ]
    },
    {
      "cell_type": "markdown",
      "metadata": {
        "id": "F0hTBhhskc2Q"
      },
      "source": [
        "# *$Contenido$*\r\n",
        "\r\n",
        "En este cuaderno se utilizan métodos de diferenciación e integración para hallar las soluciones a cada uno de los puntos. \r\n",
        "\r\n",
        "1.   En este punto utilizamos integración para hallar la distancia total recorrida, utilizando dos reglas, la regla trapezoidal y las reglas de Simpson.\r\n",
        "\r\n",
        "  Adicionalmente, sacamos el promedio de la velocidad.\r\n",
        "2.   En este punto utilizamos diferenciación númeria para hallar la aceleración mínima y máxima en el ciclo.\r\n",
        "3.   En este punto volvemos a utilizar la regla trapezoidal y las reglas de Simpson para hallar el factor de emisión de CO2, este lo hallamos primero utilizando para encontrar la masa total de CO2 y luego dividiendo esta entre la distancia recorrida hallada en el primer numeral. \r\n",
        "\r\n",
        "Para los tres numerales utilizamos dos pasos o frecuencias diferentes, $0.1s$ y $1s$.\r\n",
        "\r\n",
        "\r\n"
      ]
    },
    {
      "cell_type": "code",
      "metadata": {
        "id": "pd7jyfKn1lex"
      },
      "source": [
        "  # Importación de librerías\n",
        "import pandas as pd\n",
        "import numpy as np\n",
        "import matplotlib.pyplot as mplt\n",
        "from IPython.display import HTML, display_html, display"
      ],
      "execution_count": null,
      "outputs": []
    },
    {
      "cell_type": "code",
      "metadata": {
        "colab": {
          "base_uri": "https://localhost:8080/",
          "height": 424
        },
        "id": "OlwbOvXH1le1",
        "outputId": "9672b575-1ae4-430e-90ae-27fa8515c3b5"
      },
      "source": [
        "# Lectura de datos\n",
        "DF_datos_ciclo = pd.read_excel('https://github.com/jda-21/metPy/blob/master/T1/Datos_ciclo.xlsx?raw=true')\n",
        "DF_datos_ciclo"
      ],
      "execution_count": null,
      "outputs": [
        {
          "output_type": "execute_result",
          "data": {
            "text/html": [
              "<div>\n",
              "<style scoped>\n",
              "    .dataframe tbody tr th:only-of-type {\n",
              "        vertical-align: middle;\n",
              "    }\n",
              "\n",
              "    .dataframe tbody tr th {\n",
              "        vertical-align: top;\n",
              "    }\n",
              "\n",
              "    .dataframe thead th {\n",
              "        text-align: right;\n",
              "    }\n",
              "</style>\n",
              "<table border=\"1\" class=\"dataframe\">\n",
              "  <thead>\n",
              "    <tr style=\"text-align: right;\">\n",
              "      <th></th>\n",
              "      <th>t [s]</th>\n",
              "      <th>V [km/h]</th>\n",
              "      <th>Pendiente [%]</th>\n",
              "      <th>m_dot_CO2 [g/s]</th>\n",
              "    </tr>\n",
              "  </thead>\n",
              "  <tbody>\n",
              "    <tr>\n",
              "      <th>0</th>\n",
              "      <td>0.0</td>\n",
              "      <td>0.0</td>\n",
              "      <td>0.015391</td>\n",
              "      <td>1.217903</td>\n",
              "    </tr>\n",
              "    <tr>\n",
              "      <th>1</th>\n",
              "      <td>0.1</td>\n",
              "      <td>0.0</td>\n",
              "      <td>0.030781</td>\n",
              "      <td>1.217903</td>\n",
              "    </tr>\n",
              "    <tr>\n",
              "      <th>2</th>\n",
              "      <td>0.2</td>\n",
              "      <td>0.0</td>\n",
              "      <td>0.046172</td>\n",
              "      <td>1.217903</td>\n",
              "    </tr>\n",
              "    <tr>\n",
              "      <th>3</th>\n",
              "      <td>0.3</td>\n",
              "      <td>0.0</td>\n",
              "      <td>0.061563</td>\n",
              "      <td>1.217903</td>\n",
              "    </tr>\n",
              "    <tr>\n",
              "      <th>4</th>\n",
              "      <td>0.4</td>\n",
              "      <td>0.0</td>\n",
              "      <td>0.076953</td>\n",
              "      <td>1.217903</td>\n",
              "    </tr>\n",
              "    <tr>\n",
              "      <th>...</th>\n",
              "      <td>...</td>\n",
              "      <td>...</td>\n",
              "      <td>...</td>\n",
              "      <td>...</td>\n",
              "    </tr>\n",
              "    <tr>\n",
              "      <th>20646</th>\n",
              "      <td>2064.6</td>\n",
              "      <td>0.0</td>\n",
              "      <td>0.000000</td>\n",
              "      <td>0.996214</td>\n",
              "    </tr>\n",
              "    <tr>\n",
              "      <th>20647</th>\n",
              "      <td>2064.7</td>\n",
              "      <td>0.0</td>\n",
              "      <td>0.000000</td>\n",
              "      <td>1.562976</td>\n",
              "    </tr>\n",
              "    <tr>\n",
              "      <th>20648</th>\n",
              "      <td>2064.8</td>\n",
              "      <td>0.0</td>\n",
              "      <td>0.000000</td>\n",
              "      <td>1.037450</td>\n",
              "    </tr>\n",
              "    <tr>\n",
              "      <th>20649</th>\n",
              "      <td>2064.9</td>\n",
              "      <td>0.0</td>\n",
              "      <td>0.000000</td>\n",
              "      <td>1.170451</td>\n",
              "    </tr>\n",
              "    <tr>\n",
              "      <th>20650</th>\n",
              "      <td>2065.0</td>\n",
              "      <td>0.0</td>\n",
              "      <td>0.000000</td>\n",
              "      <td>0.766280</td>\n",
              "    </tr>\n",
              "  </tbody>\n",
              "</table>\n",
              "<p>20651 rows × 4 columns</p>\n",
              "</div>"
            ],
            "text/plain": [
              "        t [s]  V [km/h]  Pendiente [%]  m_dot_CO2 [g/s]\n",
              "0         0.0       0.0       0.015391         1.217903\n",
              "1         0.1       0.0       0.030781         1.217903\n",
              "2         0.2       0.0       0.046172         1.217903\n",
              "3         0.3       0.0       0.061563         1.217903\n",
              "4         0.4       0.0       0.076953         1.217903\n",
              "...       ...       ...            ...              ...\n",
              "20646  2064.6       0.0       0.000000         0.996214\n",
              "20647  2064.7       0.0       0.000000         1.562976\n",
              "20648  2064.8       0.0       0.000000         1.037450\n",
              "20649  2064.9       0.0       0.000000         1.170451\n",
              "20650  2065.0       0.0       0.000000         0.766280\n",
              "\n",
              "[20651 rows x 4 columns]"
            ]
          },
          "metadata": {
            "tags": []
          },
          "execution_count": 2
        }
      ]
    },
    {
      "cell_type": "markdown",
      "metadata": {
        "id": "PviMwswpLgG4"
      },
      "source": [
        "# 1. Determinar la distancia total recorrida durante el ciclo, en $km$, así como la velocidad media del ciclo, en $km/h$.\r\n"
      ]
    },
    {
      "cell_type": "code",
      "metadata": {
        "id": "b4EvyOOWCfdn"
      },
      "source": [
        "list_V_km_s = []     # Se crea una lista en la que se almacenarán los valores de la velocidad en [km/s].\r\n",
        "for i in DF_datos_ciclo['V [km/h]']:\r\n",
        "    list_V_km_s.append(i/3600)     # Se convierten los valores de la velocidad de [km/h] a [km/s]."
      ],
      "execution_count": null,
      "outputs": []
    },
    {
      "cell_type": "markdown",
      "metadata": {
        "id": "NENRrCi1LkBr"
      },
      "source": [
        "## Regla trapezoidal"
      ]
    },
    {
      "cell_type": "code",
      "metadata": {
        "colab": {
          "base_uri": "https://localhost:8080/"
        },
        "id": "dnVZTCEb1le6",
        "outputId": "f4b5403b-4c4a-4169-c091-610ff4f1fdd7"
      },
      "source": [
        "t1_dist_t = 0     # Se crea una variable para almacenar el valor de la distancia recorrida.\r\n",
        "for i in range(len(DF_datos_ciclo['t [s]']) - 1):\r\n",
        "  t1_dist_t = t1_dist_t + (DF_datos_ciclo['t [s]'][i+1] - DF_datos_ciclo['t [s]'][i]) * ((list_V_km_s[i] + list_V_km_s[i+1])) / 2     # Se aplica la regla trapezoidal con una frecuencia de 0.1 s.\r\n",
        "print('La distancia total recorrida es: ', t1_dist_t, '[km]')     # Se muestra el resultado."
      ],
      "execution_count": null,
      "outputs": [
        {
          "output_type": "stream",
          "text": [
            "La distancia total recorrida es:  13.91660661796725 [km]\n"
          ],
          "name": "stdout"
        }
      ]
    },
    {
      "cell_type": "code",
      "metadata": {
        "colab": {
          "base_uri": "https://localhost:8080/"
        },
        "id": "Ii6aPXMcD9OP",
        "outputId": "b154a85d-d456-4aac-e3e1-886015ce3e7c"
      },
      "source": [
        "t2_dist_t = 0     # Se crea una variable para almacenar el valor de la distancia recorrida.\r\n",
        "for i in range(0, len(DF_datos_ciclo['t [s]']) - 1, 10):\r\n",
        "  t2_dist_t = t2_dist_t + (DF_datos_ciclo['t [s]'][i+10] - DF_datos_ciclo['t [s]'][i]) * ((list_V_km_s[i] + list_V_km_s[i+10])) / 2     # Se aplica la regla trapezoidal con una frecuencia de 1 s.\r\n",
        "print('La distancia total recorrida es: ', t2_dist_t, '[km]')     # Se muestra el resultado."
      ],
      "execution_count": null,
      "outputs": [
        {
          "output_type": "stream",
          "text": [
            "La distancia total recorrida es:  13.915788679383354 [km]\n"
          ],
          "name": "stdout"
        }
      ]
    },
    {
      "cell_type": "markdown",
      "metadata": {
        "id": "Cc8ObmMTLsnE"
      },
      "source": [
        "## Reglas de Simpson"
      ]
    },
    {
      "cell_type": "markdown",
      "metadata": {
        "id": "vEgIvj6sQLmk"
      },
      "source": [
        "### Regla de Simpson 1/3"
      ]
    },
    {
      "cell_type": "code",
      "metadata": {
        "colab": {
          "base_uri": "https://localhost:8080/"
        },
        "id": "J8W99iHWNPth",
        "outputId": "198f03b9-82b3-4779-e64a-83fae9d02342"
      },
      "source": [
        "s1_dist_t = 0     # Se crea una variable para almacenar el valor de la distancia recorrida.\r\n",
        "for i in range (len(DF_datos_ciclo['t [s]']) - 2):\r\n",
        "  s1_dist_t = s1_dist_t + (DF_datos_ciclo['t [s]'][i+1] - DF_datos_ciclo['t [s]'][i]) * ((list_V_km_s[i] + \r\n",
        "  4*(list_V_km_s[i+1]) + list_V_km_s[i+2]))/6     # Se aplica la regla de Simpson 1/3 con una frecuencia de 0.1 s.\r\n",
        "print('La distancia total recorrida es: ', s1_dist_t, '[km]')     # Se muestra el resultado."
      ],
      "execution_count": null,
      "outputs": [
        {
          "output_type": "stream",
          "text": [
            "La distancia total recorrida es:  13.916606617967197 [km]\n"
          ],
          "name": "stdout"
        }
      ]
    },
    {
      "cell_type": "markdown",
      "metadata": {
        "id": "zaiEKzUYWFlw"
      },
      "source": [
        "### Reglas de Simpson combinadas"
      ]
    },
    {
      "cell_type": "code",
      "metadata": {
        "colab": {
          "base_uri": "https://localhost:8080/"
        },
        "id": "pY4dkDVN27Kq",
        "outputId": "3da0a7c4-8352-437c-bd5f-94913f51f2c4"
      },
      "source": [
        "dist_1_3 = 0     # Se crea una variable para almacenar el valor de la distancia recorrida.\r\n",
        "for i in range (0,len(DF_datos_ciclo['t [s]']) - 31,10):\r\n",
        "  dist_1_3 = dist_1_3 + (DF_datos_ciclo['t [s]'][i+10] - DF_datos_ciclo['t [s]'][i]) * ((list_V_km_s[i] +\r\n",
        "  4*(list_V_km_s[i+10]) + list_V_km_s[i+20]))/6     # Se aplica la regla de Simpson 1/3 con una frecuencia de 1 s, en todos los segmentos, excepto los 3 últimos.\r\n",
        "\r\n",
        "dist_3_8 = (DF_datos_ciclo['t [s]'][20630] - DF_datos_ciclo['t [s]'][20620]) * (((list_V_km_s[20620] + \r\n",
        " 3*(list_V_km_s[20630]) + 3*(list_V_km_s[20640]) + list_V_km_s[20650])) / (8))     # Se aplica la regla de Simpson 3/8 con una frecuencia de 1 s en los tres últimos segmentos.\r\n",
        "\r\n",
        "s2_dist_t = dist_1_3 + dist_3_8     # Se suman las distancias obtenidas.\r\n",
        "print('La distancia total recorrida es: ', s2_dist_t, '[km]')     # Se muestra el resultado."
      ],
      "execution_count": null,
      "outputs": [
        {
          "output_type": "stream",
          "text": [
            "La distancia total recorrida es:  13.915788679383386 [km]\n"
          ],
          "name": "stdout"
        }
      ]
    },
    {
      "cell_type": "code",
      "metadata": {
        "colab": {
          "base_uri": "https://localhost:8080/",
          "height": 191
        },
        "id": "D3RtBaiQcP05",
        "outputId": "ceea92b5-1df2-480c-f8d2-10e29c5b9be1"
      },
      "source": [
        "d_dist = {'h':[0.1,1], 'Regla trapezoidal':[t1_dist_t, t2_dist_t], 'Reglas de Simpson':[s1_dist_t, s2_dist_t]}     # Se crea un diccionario con los resulados obtenidos.\r\n",
        "DF_dist = pd.DataFrame(d_dist)    # Se crea un DataFrame a partir del diccionario creado.\r\n",
        "DF_dist.set_index('h', inplace=True)    # Se utilizan las frecuencias como índices.\r\n",
        "DF_dist    # Se muestra el DataFrame para comparar los resultados obtenidos por los diferentes métodos utilizados.\r\n",
        "display(HTML('<h2>Distancia total recorrida</h2>'))\r\n",
        "display_html(DF_dist)"
      ],
      "execution_count": null,
      "outputs": [
        {
          "output_type": "display_data",
          "data": {
            "text/html": [
              "<h2>Distancia total recorrida</h2>"
            ],
            "text/plain": [
              "<IPython.core.display.HTML object>"
            ]
          },
          "metadata": {
            "tags": []
          }
        },
        {
          "output_type": "display_data",
          "data": {
            "text/html": [
              "<div>\n",
              "<style scoped>\n",
              "    .dataframe tbody tr th:only-of-type {\n",
              "        vertical-align: middle;\n",
              "    }\n",
              "\n",
              "    .dataframe tbody tr th {\n",
              "        vertical-align: top;\n",
              "    }\n",
              "\n",
              "    .dataframe thead th {\n",
              "        text-align: right;\n",
              "    }\n",
              "</style>\n",
              "<table border=\"1\" class=\"dataframe\">\n",
              "  <thead>\n",
              "    <tr style=\"text-align: right;\">\n",
              "      <th></th>\n",
              "      <th>Regla trapezoidal</th>\n",
              "      <th>Reglas de Simpson</th>\n",
              "    </tr>\n",
              "    <tr>\n",
              "      <th>h</th>\n",
              "      <th></th>\n",
              "      <th></th>\n",
              "    </tr>\n",
              "  </thead>\n",
              "  <tbody>\n",
              "    <tr>\n",
              "      <th>0.1</th>\n",
              "      <td>13.916607</td>\n",
              "      <td>13.916607</td>\n",
              "    </tr>\n",
              "    <tr>\n",
              "      <th>1.0</th>\n",
              "      <td>13.915789</td>\n",
              "      <td>13.915789</td>\n",
              "    </tr>\n",
              "  </tbody>\n",
              "</table>\n",
              "</div>"
            ]
          },
          "metadata": {
            "tags": []
          }
        }
      ]
    },
    {
      "cell_type": "markdown",
      "metadata": {
        "id": "-V9oKx2bVZrl"
      },
      "source": [
        "## Velocidad media en $km/h$\r\n"
      ]
    },
    {
      "cell_type": "code",
      "metadata": {
        "colab": {
          "base_uri": "https://localhost:8080/"
        },
        "id": "gSRFgDnz54Nj",
        "outputId": "5e017501-0bb3-4cb3-ef16-fff9428e6fad"
      },
      "source": [
        "V_prom = sum(DF_datos_ciclo['V [km/h]']) / len(DF_datos_ciclo['V [km/h]'])     # Se calcula el promedio de los datos de velocidad dados.\r\n",
        "print('La velocidad media del ciclo es: ', V_prom, '[km/h]')     # Se muestra el resultado."
      ],
      "execution_count": null,
      "outputs": [
        {
          "output_type": "stream",
          "text": [
            "La velocidad media del ciclo es:  24.260221696132106 [km/h]\n"
          ],
          "name": "stdout"
        }
      ]
    },
    {
      "cell_type": "markdown",
      "metadata": {
        "id": "pCBm6qQTn8aj"
      },
      "source": [
        "# 2. Determinar las aceleraciones máxima y mínima durante el ciclo, en $m/s²$"
      ]
    },
    {
      "cell_type": "markdown",
      "metadata": {
        "id": "cB62IGaH1lep"
      },
      "source": [
        "<div align=\"justify\">\n",
        "Con el fin de estimar la aceleración en los instantes dados, se debe derivar la velocidad que se tiene, para lo cual se utilizan métodos de diferenciación numérica. Dado que la expresión de diferencias finitas centradas que entrega un error de truncamiento del orden de $h^{4}$ requiere de dos puntos previos y dos puntos posteriores, no puede ser usada ni en los dos primeros puntos ni en los dos últimos puntos. Por esto se utilizarán diferencias finitas hacia adelante O($h^{2}$) en los dos primeros y diferencias finitas hacia atrás O($h^{2}$) en los dos últimos.\n",
        "</div>\n",
        "\n",
        "Se tiene entonces, para los dos primeros puntos:\n",
        "\n",
        "$$f'(x_{i})= \\frac{-f(x_{i+2})+4f(x_{i+1})-3f(x_{i})}{2h}+O (h^{2})$$ \n",
        "\n",
        "$$a(t_{i})=\\frac{dV(t_{i})}{dt}\\cong \\frac{-V(t_{i+2})+4V(t_{i+1})-3V(t_{i})}{2h}$$  \n",
        "\n",
        "Para los dos últimos puntos:\n",
        "\n",
        "$$f'(x_{i})= \\frac{3f(x_{i})-4f(x_{i-1})+f(x_{i-2})}{2h}+O (h^{2})$$\n",
        "\n",
        "$$a(t_{i})=\\frac{dV(t_{i})}{dt}\\cong \\frac{3V(t_{i})-4V(t_{i-1})+V(t_{i-2})}{2h}$$\n",
        "\n",
        "Para el resto de los puntos: \n",
        "\n",
        "$$f'(x_{i})= \\frac{-f(x_{i+2})+8f(x_{i+1})-8f(x_{i-1})+f(x_{i-2})}{12h}+O (h^{4})$$\n",
        "\n",
        "$$a(t_{i})=\\frac{dV(t_{i})}{dt}\\cong\\frac{-V(t_{i+2})+8V(t_{i+1})-8V(t_{i-1})+V(t_{i-2})}{12h}$$"
      ]
    },
    {
      "cell_type": "code",
      "metadata": {
        "id": "Rfer4dHWW0Uc"
      },
      "source": [
        "V_m_s = (DF_datos_ciclo['V [km/h]'])*(1000/3600)     # Se convierten los valores de la velocidad de [km/h] a [m/s]."
      ],
      "execution_count": null,
      "outputs": []
    },
    {
      "cell_type": "code",
      "metadata": {
        "id": "qjvLrawaAwA6",
        "colab": {
          "base_uri": "https://localhost:8080/"
        },
        "outputId": "1bceada5-a2d4-4108-f337-f8c6507d7c6d"
      },
      "source": [
        "h = DF_datos_ciclo['t [s]'][1] - DF_datos_ciclo['t [s]'][0]     # Se establece el paso.\r\n",
        "\r\n",
        "a1 = []     # Se crea una lista para almacenar los valores de la aceleración.\r\n",
        "for i in range(2):\r\n",
        "    a_t_i = (-V_m_s[i+2] + 4*(V_m_s[i+1]) - 3*(V_m_s[i])) / (2*h)     # Se calcula la aceleración para los dos primeros instantes.\r\n",
        "    a1.append(a_t_i)\r\n",
        "for i in range(2,len(V_m_s)-2):\r\n",
        "    a_t_i = (-V_m_s[i+2] + 8*(V_m_s[i+1]) - 8*(V_m_s[i-1]) + (V_m_s[i-2])) / (12*h)     # Se calcula la aceleración para los instantes intermedios.\r\n",
        "    a1.append(a_t_i)\r\n",
        "for i in range(len(V_m_s)-2,len(V_m_s)):\r\n",
        "    a_t_i = (3*V_m_s[i] - 4*(V_m_s[i-1]) + (V_m_s[i-2])) / (2*h)     # Se calcula la aceleración para los dos últimos instantes.\r\n",
        "    a1.append(a_t_i)\r\n",
        "print('La aceleración máxima durante el ciclo es: ', max(a1),'[m/s²]')     # Se muestra el valor máximo que tuvo la aceleración.\r\n",
        "print('La aceleración mínima durante el ciclo es: ', min(a1),'[m/s²]')     # Se muestra el valor mínimo que tuvo la aceleración."
      ],
      "execution_count": null,
      "outputs": [
        {
          "output_type": "stream",
          "text": [
            "La aceleración máxima durante el ciclo es:  2.9144651524521024 [m/s²]\n",
            "La aceleración mínima durante el ciclo es:  -4.3451599950102855 [m/s²]\n"
          ],
          "name": "stdout"
        }
      ]
    },
    {
      "cell_type": "code",
      "metadata": {
        "colab": {
          "base_uri": "https://localhost:8080/"
        },
        "id": "Kyila1gZkjnt",
        "outputId": "f96e84ce-5170-4145-8adb-3303b78cf2d9"
      },
      "source": [
        "h = DF_datos_ciclo['t [s]'][10] - DF_datos_ciclo['t [s]'][0]     # Se establece el paso.\r\n",
        "\r\n",
        "a2 = []     # Se crea una lista para almacenar los valores de la aceleración.\r\n",
        "for i in range(0,11,10):\r\n",
        "    a_t_i = (-V_m_s[i+20] + 4*(V_m_s[i+10]) - 3*(V_m_s[i])) / (2*h)     # Se calcula la aceleración para los dos primeros instantes.\r\n",
        "    a1.append(a_t_i)\r\n",
        "for i in range(20,len(V_m_s)-20, 10):\r\n",
        "    a_t_i = (-V_m_s[i+20] + 8*(V_m_s[i+10]) - 8*(V_m_s[i-10]) + (V_m_s[i-20])) / (12*h)     # Se calcula la aceleración utilizando para los instantes intermedios.\r\n",
        "    a2.append(a_t_i)\r\n",
        "for i in range(len(V_m_s)-20,len(V_m_s),10):\r\n",
        "    a_t_i = (3*V_m_s[i] - 4*(V_m_s[i-10]) + (V_m_s[i-20])) / (2*h)     # Se calcula la aceleración para los dos últimos instantes.\r\n",
        "    a1.append(a_t_i)\r\n",
        "print('La aceleración máxima durante el ciclo es: ', max(a2),'[m/s²]')     # Se muestra el valor máximo que tuvo la aceleración.\r\n",
        "print('La aceleración mínima durante el ciclo es: ', min(a2),'[m/s²]')     # Se muestra el valor mínimo que tuvo la aceleración."
      ],
      "execution_count": null,
      "outputs": [
        {
          "output_type": "stream",
          "text": [
            "La aceleración máxima durante el ciclo es:  2.459613323772745 [m/s²]\n",
            "La aceleración mínima durante el ciclo es:  -2.297075386906937 [m/s²]\n"
          ],
          "name": "stdout"
        }
      ]
    },
    {
      "cell_type": "code",
      "metadata": {
        "id": "R-mqLTyfWP-D",
        "colab": {
          "base_uri": "https://localhost:8080/",
          "height": 191
        },
        "outputId": "45c274f9-4f56-4836-a7fc-94f1a2b0527d"
      },
      "source": [
        "d_acel = {'Paso':[0.1,1], 'Aceleración máxima':[max(a1), max(a2)], 'Aceleración mínima':[min(a1), min(a2)]}     # Se crea un diccionario con los resulados obtenidos.\r\n",
        "DF_acel = pd.DataFrame(d_acel)     # Se crea un DataFrame a partir del diccionario creado.\r\n",
        "DF_acel.set_index('Paso', inplace=True)    # Se utilizan las frecuencias como índices.\r\n",
        "DF_acel    # Se muestra el DataFrame para comparar los resultados obtenidos por los diferentes métodos utilizados.\r\n",
        "display(HTML('<h2>Aceleración</h2>'))\r\n",
        "display_html(DF_acel)"
      ],
      "execution_count": null,
      "outputs": [
        {
          "output_type": "display_data",
          "data": {
            "text/html": [
              "<h2>Aceleración</h2>"
            ],
            "text/plain": [
              "<IPython.core.display.HTML object>"
            ]
          },
          "metadata": {
            "tags": []
          }
        },
        {
          "output_type": "display_data",
          "data": {
            "text/html": [
              "<div>\n",
              "<style scoped>\n",
              "    .dataframe tbody tr th:only-of-type {\n",
              "        vertical-align: middle;\n",
              "    }\n",
              "\n",
              "    .dataframe tbody tr th {\n",
              "        vertical-align: top;\n",
              "    }\n",
              "\n",
              "    .dataframe thead th {\n",
              "        text-align: right;\n",
              "    }\n",
              "</style>\n",
              "<table border=\"1\" class=\"dataframe\">\n",
              "  <thead>\n",
              "    <tr style=\"text-align: right;\">\n",
              "      <th></th>\n",
              "      <th>Aceleración máxima</th>\n",
              "      <th>Aceleración mínima</th>\n",
              "    </tr>\n",
              "    <tr>\n",
              "      <th>Paso</th>\n",
              "      <th></th>\n",
              "      <th></th>\n",
              "    </tr>\n",
              "  </thead>\n",
              "  <tbody>\n",
              "    <tr>\n",
              "      <th>0.1</th>\n",
              "      <td>2.914465</td>\n",
              "      <td>-4.345160</td>\n",
              "    </tr>\n",
              "    <tr>\n",
              "      <th>1.0</th>\n",
              "      <td>2.459613</td>\n",
              "      <td>-2.297075</td>\n",
              "    </tr>\n",
              "  </tbody>\n",
              "</table>\n",
              "</div>"
            ]
          },
          "metadata": {
            "tags": []
          }
        }
      ]
    },
    {
      "cell_type": "markdown",
      "metadata": {
        "id": "UU3L-lOMgzN-"
      },
      "source": [
        "# 3. Determinar el factor de emisión de CO2, del vehículo, el cual se expresa como la masa total de CO2, dividida por la distancia total recorrida $[gCO2/km]$."
      ]
    },
    {
      "cell_type": "markdown",
      "metadata": {
        "id": "UeC98sLBjz_R"
      },
      "source": [
        "## Trapezoidal"
      ]
    },
    {
      "cell_type": "code",
      "metadata": {
        "id": "bobl2cOj1lfA",
        "colab": {
          "base_uri": "https://localhost:8080/"
        },
        "outputId": "09f533e0-68f7-44d9-bdb1-20d8e7e9f951"
      },
      "source": [
        "t1_m_CO2_t = 0     # Se crea una variable para almacenar el valor de la masa total de CO2.\r\n",
        "for i in range(len(DF_datos_ciclo['t [s]']) - 1):\r\n",
        "  t1_m_CO2_t = t1_m_CO2_t + (DF_datos_ciclo['t [s]'][i+1] - DF_datos_ciclo['t [s]'][i]) * ((DF_datos_ciclo['m_dot_CO2 [g/s]'][i] + \r\n",
        "  DF_datos_ciclo['m_dot_CO2 [g/s]'][i+1])) / 2     # Se aplica la regla trapezoidal con una frecuencia de 0.1 s.\r\n",
        "t1_fact_emi_t = t1_m_CO2_t / t1_dist_t     # Se calcula el factor de emisión.\r\n",
        "print('La masa total de CO2 es: ', t1_m_CO2_t, '[gCO2]')    # Se muestra la masa total de CO2.\r\n",
        "print('El factor de emisión de CO2 del vehículo es: ', t1_fact_emi_t, '[gCO2/km]')     # Se muestra el factor de emisión."
      ],
      "execution_count": null,
      "outputs": [
        {
          "output_type": "stream",
          "text": [
            "La masa total de CO2 es:  7429.41870825595 [gCO2]\n",
            "El factor de emisión de CO2 del vehículo es:  533.8527496109637 [gCO2/km]\n"
          ],
          "name": "stdout"
        }
      ]
    },
    {
      "cell_type": "code",
      "metadata": {
        "id": "2Tlogjl5iE8d",
        "colab": {
          "base_uri": "https://localhost:8080/"
        },
        "outputId": "c301827d-3758-48bb-ace4-a8af1c85e277"
      },
      "source": [
        "t2_m_CO2_t = 0     # Se crea una variable para almacenar el valor de la masa total de CO2.\r\n",
        "for i in range(0, len(DF_datos_ciclo['t [s]']) - 1, 10):\r\n",
        "  t2_m_CO2_t = t2_m_CO2_t + (DF_datos_ciclo['t [s]'][i+10] - DF_datos_ciclo['t [s]'][i]) * ((DF_datos_ciclo['m_dot_CO2 [g/s]'][i] + \r\n",
        "  DF_datos_ciclo['m_dot_CO2 [g/s]'][i+10])) / 2     # Se aplica la regla trapezoidal con una frecuencia de 1 s.\r\n",
        "t2_fact_emi_t = t2_m_CO2_t / t2_dist_t     # Se calcula el factor de emisión.\r\n",
        "print('La masa total de CO2 es: ', t2_m_CO2_t, '[gCO2]')    # Se muestra la masa total de CO2.\r\n",
        "print('El factor de emisión de CO2 del vehículo es: ', t2_fact_emi_t, '[gCO2/km]')     # Se muestra el factor de emisión."
      ],
      "execution_count": null,
      "outputs": [
        {
          "output_type": "stream",
          "text": [
            "La masa total de CO2 es:  7422.6558803446405 [gCO2]\n",
            "El factor de emisión de CO2 del vehículo es:  533.3981459018216 [gCO2/km]\n"
          ],
          "name": "stdout"
        }
      ]
    },
    {
      "cell_type": "markdown",
      "metadata": {
        "id": "nkmmLFeqku4r"
      },
      "source": [
        "## Reglas de Simpson"
      ]
    },
    {
      "cell_type": "markdown",
      "metadata": {
        "id": "BtwBfJOkXMDp"
      },
      "source": [
        "### Regla de Simpson 1/3"
      ]
    },
    {
      "cell_type": "code",
      "metadata": {
        "id": "j-qu8YUBk3L9",
        "colab": {
          "base_uri": "https://localhost:8080/"
        },
        "outputId": "b3fb0c49-d7bb-447c-fdf7-7fcc9591a5f1"
      },
      "source": [
        "s1_m_CO2_t = 0     # Se crea una variable para almacenar el valor de la masa total de CO2.\r\n",
        "for i in range (len(DF_datos_ciclo['t [s]']) - 2):\r\n",
        "  s1_m_CO2_t = s1_m_CO2_t + (DF_datos_ciclo['t [s]'][i+1] - DF_datos_ciclo['t [s]'][i]) * ((DF_datos_ciclo['m_dot_CO2 [g/s]'][i] + \r\n",
        "  4*(DF_datos_ciclo['m_dot_CO2 [g/s]'][i+1]) + DF_datos_ciclo['m_dot_CO2 [g/s]'][i+2]))/6     # Se aplica la regla de Simpson 1/3 con una frecuencia de 0.1 s.\r\n",
        "s1_fact_emi_t = s1_m_CO2_t / s1_dist_t    # Se calcula el factor de emisión.\r\n",
        "print('La masa total de CO2 es: ', s1_m_CO2_t, '[gCO2]')    # Se muestra la masa total de CO2.\r\n",
        "print('El factor de emisión de CO2 del vehículo es: ', s1_fact_emi_t, '[gCO2/km]')     # Se muestra el factor de emisión."
      ],
      "execution_count": null,
      "outputs": [
        {
          "output_type": "stream",
          "text": [
            "La masa total de CO2 es:  7429.312762893366 [gCO2]\n",
            "El factor de emisión de CO2 del vehículo es:  533.8451367376919 [gCO2/km]\n"
          ],
          "name": "stdout"
        }
      ]
    },
    {
      "cell_type": "markdown",
      "metadata": {
        "id": "xUAsxbo5XPjk"
      },
      "source": [
        "### Reglas de Simpson combinadas"
      ]
    },
    {
      "cell_type": "code",
      "metadata": {
        "colab": {
          "base_uri": "https://localhost:8080/"
        },
        "id": "xbt-Zy2pXZmg",
        "outputId": "2100541d-189b-4183-a8aa-8e2ca10adca9"
      },
      "source": [
        "m_CO2_1_3 = 0     # Se crea una variable para almacenar el valor de la masa total de CO2.\r\n",
        "for i in range (0,len(DF_datos_ciclo['t [s]']) - 31,10):\r\n",
        "  m_CO2_1_3 = m_CO2_1_3 + (DF_datos_ciclo['t [s]'][i+10] - DF_datos_ciclo['t [s]'][i]) * ((DF_datos_ciclo['m_dot_CO2 [g/s]'][i] +\r\n",
        "  4*(DF_datos_ciclo['m_dot_CO2 [g/s]'][i+10]) + DF_datos_ciclo['m_dot_CO2 [g/s]'][i+20]))/6     # Se aplica la regla de Simpson 1/3 con una frecuencia de 1 s, en todos los segmentos, excepto los 3 últimos.\r\n",
        "\r\n",
        "m_CO2_3_8 = (DF_datos_ciclo['t [s]'][20630] - DF_datos_ciclo['t [s]'][20620]) * (((DF_datos_ciclo['m_dot_CO2 [g/s]'][20620] + \r\n",
        " 3*(DF_datos_ciclo['m_dot_CO2 [g/s]'][20630]) + 3*(DF_datos_ciclo['m_dot_CO2 [g/s]'][20640]) + DF_datos_ciclo['m_dot_CO2 [g/s]'][20650])) / (8))     # Se aplica la regla de Simpson 3/8 con una frecuencia de 1 s en los tres últimos segmentos.\r\n",
        "\r\n",
        "s2_m_CO2_t = m_CO2_1_3 + m_CO2_3_8     # Se suman las masas de CO2 obtenidas.\r\n",
        "\r\n",
        "s2_fact_emi_t = s2_m_CO2_t / s2_dist_t     # Se calcula el factor de emisión.\r\n",
        "print('La masa total de CO2 es: ', s2_m_CO2_t, '[gCO2]')    # Se muestra la masa total de CO2.\r\n",
        "print('El factor de emisión de CO2 del vehículo es: ', s2_fact_emi_t, '[gCO2/km]')     # Se muestra el factor de emisión."
      ],
      "execution_count": null,
      "outputs": [
        {
          "output_type": "stream",
          "text": [
            "La masa total de CO2 es:  7420.606144132445 [gCO2]\n",
            "El factor de emisión de CO2 del vehículo es:  533.2508501746847 [gCO2/km]\n"
          ],
          "name": "stdout"
        }
      ]
    },
    {
      "cell_type": "code",
      "metadata": {
        "id": "Az3yfeS2oOj8",
        "colab": {
          "base_uri": "https://localhost:8080/",
          "height": 191
        },
        "outputId": "2be4cfa0-9d9b-4f94-e1f5-fca75f3fbe9e"
      },
      "source": [
        "d_fact_emi = {'h':[0.1,1], 'Regla trapezoidal':[t1_fact_emi_t, t2_fact_emi_t], 'Reglas de Simpson':[s1_fact_emi_t, s2_fact_emi_t]}     # Se crea un diccionario con los resulados obtenidos.\r\n",
        "DF_fact_emi = pd.DataFrame(d_fact_emi)    # Se crea un DataFrame a partir del diccionario creado.\r\n",
        "DF_fact_emi.set_index('h', inplace=True)    # Se utilizan las frecuencias como índices.\r\n",
        "DF_fact_emi    # Se muestra el DataFrame para comparar los resultados obtenidos por los diferentes métodos utilizados.\r\n",
        "#DF_fact_emi .style.set_caption('Factor de emisión')\r\n",
        "display(HTML('<h2>Factor de emisión</h2>'))\r\n",
        "display_html(DF_fact_emi)"
      ],
      "execution_count": null,
      "outputs": [
        {
          "output_type": "display_data",
          "data": {
            "text/html": [
              "<h2>Factor de emisión</h2>"
            ],
            "text/plain": [
              "<IPython.core.display.HTML object>"
            ]
          },
          "metadata": {
            "tags": []
          }
        },
        {
          "output_type": "display_data",
          "data": {
            "text/html": [
              "<div>\n",
              "<style scoped>\n",
              "    .dataframe tbody tr th:only-of-type {\n",
              "        vertical-align: middle;\n",
              "    }\n",
              "\n",
              "    .dataframe tbody tr th {\n",
              "        vertical-align: top;\n",
              "    }\n",
              "\n",
              "    .dataframe thead th {\n",
              "        text-align: right;\n",
              "    }\n",
              "</style>\n",
              "<table border=\"1\" class=\"dataframe\">\n",
              "  <thead>\n",
              "    <tr style=\"text-align: right;\">\n",
              "      <th></th>\n",
              "      <th>Regla trapezoidal</th>\n",
              "      <th>Reglas de Simpson</th>\n",
              "    </tr>\n",
              "    <tr>\n",
              "      <th>h</th>\n",
              "      <th></th>\n",
              "      <th></th>\n",
              "    </tr>\n",
              "  </thead>\n",
              "  <tbody>\n",
              "    <tr>\n",
              "      <th>0.1</th>\n",
              "      <td>533.852750</td>\n",
              "      <td>533.845137</td>\n",
              "    </tr>\n",
              "    <tr>\n",
              "      <th>1.0</th>\n",
              "      <td>533.398146</td>\n",
              "      <td>533.250850</td>\n",
              "    </tr>\n",
              "  </tbody>\n",
              "</table>\n",
              "</div>"
            ]
          },
          "metadata": {
            "tags": []
          }
        }
      ]
    },
    {
      "cell_type": "markdown",
      "metadata": {
        "id": "jxNhRW6vNgGX"
      },
      "source": [
        "# Conclusiones \r\n",
        "<div align=\"justify\">\r\n",
        " \r\n",
        "\r\n",
        "*  Como podemos observar cuando se hacen los cálculos con los diferentes métodos se obtienen resultados constantes entre ellos, exceptuando los obtenidos para la aceleración. Además se puede apreciar que hay una pequeña pérdida en los resultados con el paso de $1s$ y esto tiene sentido ya que cuando pasamos del paso de $0.1s$ al de $1s$ trabajamos sólo con el 10% del total de datos. Esta diferencia es más notable en el cálculo de la aceleración, como ya se había mencionado, posiblemente porque los puntos máximos y mínimos se encontraban entre los que no se tuvieron en cuenta con el nuevo paso.\r\n",
        "\r\n",
        "\r\n",
        "</div>"
      ]
    }
  ]
}